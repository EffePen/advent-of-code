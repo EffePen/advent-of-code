{
 "cells": [
  {
   "cell_type": "code",
   "execution_count": 1,
   "id": "1680cec1-ebaf-427e-afb4-4f342413b4c1",
   "metadata": {},
   "outputs": [],
   "source": [
    "import re\n",
    "from itertools import groupby\n",
    "\n",
    "def parse_input():\n",
    "    with open(\"input.txt\") as f:\n",
    "        input_txt = f.read()\n",
    "    nodes_disk_info_txt = input_txt.splitlines()[2:]\n",
    "    nodes_disk_info = dict()\n",
    "    for node_disk_info_txt in nodes_disk_info_txt:\n",
    "        parsed, = re.findall(r\"/dev/grid/node-x(\\d+)-y(\\d+)\\s+(\\d+)T\\s+(\\d+)T\\s+(\\d+)T\\s+(\\d+)%\", node_disk_info_txt)\n",
    "        (x, y, size, used, avail, pct_used) = [int(p) for p in parsed]\n",
    "        nodes_disk_info[(x, y)] = (size, used, avail, pct_used)\n",
    "    return nodes_disk_info\n",
    "\n",
    "\n",
    "nodes_disk_info = parse_input()\n"
   ]
  },
  {
   "cell_type": "code",
   "execution_count": 2,
   "id": "d2ad0655-472d-475b-9692-9e2121022f90",
   "metadata": {},
   "outputs": [
    {
     "name": "stdout",
     "output_type": "stream",
     "text": [
      "Target pos (36, 0)\n",
      "Max x 36, Max y 24\n"
     ]
    }
   ],
   "source": [
    "max_x = max(x for x, y in nodes_disk_info.keys())\n",
    "max_y = max(y for x, y in nodes_disk_info.keys())\n",
    "target_pos = (max_x, 0)\n",
    "target_data = nodes_disk_info[target_pos]\n",
    "print(\"Target pos\", target_pos)\n",
    "print(f\"Max x {max_x}, Max y {max_y}\")"
   ]
  },
  {
   "cell_type": "markdown",
   "id": "1b8e30a6-71d9-43b1-bf19-7caaebdde160",
   "metadata": {},
   "source": [
    "## PART 1"
   ]
  },
  {
   "cell_type": "code",
   "execution_count": 3,
   "id": "117e2dfd-fb9e-44ff-9362-f2d28d7dad2c",
   "metadata": {},
   "outputs": [],
   "source": [
    "viable_pairs = []\n",
    "for n1, (n1_size, n1_used, n1_avail, n1_pct_used) in nodes_disk_info.items():\n",
    "    for n2, (n2_size, n2_used, n2_avail, n2_pct_used) in nodes_disk_info.items():\n",
    "        if n1 != n2 and 0 < n1_used < n2_avail:\n",
    "            viable_pairs.append((n1, n2))"
   ]
  },
  {
   "cell_type": "code",
   "execution_count": 4,
   "id": "0d4eb581-4ef0-4137-9a1a-f850d2b00ac7",
   "metadata": {},
   "outputs": [
    {
     "name": "stdout",
     "output_type": "stream",
     "text": [
      "Part 1 solution: 888\n"
     ]
    }
   ],
   "source": [
    "print(f\"Part 1 solution: {len(viable_pairs)}\")"
   ]
  },
  {
   "cell_type": "markdown",
   "id": "c9e726e2-3aea-423f-be86-1191723f2dcc",
   "metadata": {},
   "source": [
    "## PART 2"
   ]
  },
  {
   "cell_type": "code",
   "execution_count": 5,
   "id": "5b064938-5fc8-4a43-8f8e-9b299818c07f",
   "metadata": {},
   "outputs": [],
   "source": [
    "used_sizes = [(used, pos) for (pos, (_, used, _, _)) in nodes_disk_info.items()]\n",
    "avail_sizes = [(avail, pos) for (pos, (_, _, avail, _)) in nodes_disk_info.items()]\n",
    "tot_sizes = [(size, pos) for (pos, (size, _, _, _)) in nodes_disk_info.items()]\n",
    "\n",
    "used_sizes = sorted(used_sizes, key=lambda x: x[0])\n",
    "avail_sizes = sorted(avail_sizes, key=lambda x: x[0])\n",
    "tot_sizes = sorted(tot_sizes, key=lambda x: x[0])"
   ]
  },
  {
   "cell_type": "code",
   "execution_count": 6,
   "id": "a4f2a856-5ac9-42b1-9808-517ad03a5804",
   "metadata": {},
   "outputs": [
    {
     "name": "stdout",
     "output_type": "stream",
     "text": [
      "Max avail space [(93, (19, 6)), (30, (32, 8)), (30, (27, 9)), (30, (21, 17)), (30, (20, 21))]\n",
      "Min used space [(0, (19, 6)), (64, (0, 2)), (64, (0, 3)), (64, (0, 10)), (64, (0, 13))]\n",
      "Max possible move 93\n",
      "Starting empty pos (19, 6)\n"
     ]
    }
   ],
   "source": [
    "# only (19, 6) has enough space available for any move => the max possible move is 93T\n",
    "print(\"Max avail space\", avail_sizes[::-1][:5])\n",
    "print(\"Min used space\", used_sizes[:5])\n",
    "max_possible_move = avail_sizes[::-1][0][0]\n",
    "print(\"Max possible move\", max_possible_move)\n",
    "start_pos = avail_sizes[::-1][0][1]\n",
    "print(\"Starting empty pos\", start_pos)"
   ]
  },
  {
   "cell_type": "code",
   "execution_count": 7,
   "id": "d0b747d0-47ed-4381-bfc8-bea3540161b4",
   "metadata": {},
   "outputs": [
    {
     "name": "stdout",
     "output_type": "stream",
     "text": [
      "Impossible moves [(493, (1, 3)), (490, (2, 3)), (490, (3, 3)), (494, (4, 3)), (492, (5, 3)), (497, (6, 3)), (496, (7, 3)), (497, (8, 3)), (495, (9, 3)), (494, (10, 3)), (495, (11, 3)), (492, (12, 3)), (499, (13, 3)), (495, (14, 3)), (497, (15, 3)), (492, (16, 3)), (495, (17, 3)), (496, (18, 3)), (497, (19, 3)), (494, (20, 3)), (491, (21, 3)), (492, (22, 3)), (494, (23, 3)), (493, (24, 3)), (499, (25, 3)), (491, (26, 3)), (495, (27, 3)), (491, (28, 3)), (491, (29, 3)), (491, (30, 3)), (499, (31, 3)), (498, (32, 3)), (492, (33, 3)), (499, (34, 3)), (493, (35, 3)), (499, (36, 3))]\n",
      "Possible x passages for y=3 {0}\n",
      "Only possible passage (0, 3)\n"
     ]
    }
   ],
   "source": [
    "# In row 3 only 1 disk that can be freed: (0, 3)\n",
    "impossible_moves = sorted([us for us in used_sizes[::-1] if us[0] > max_possible_move], key=lambda e: (e[1][1], e[1][0]))\n",
    "print(\"Impossible moves\", impossible_moves)\n",
    "\n",
    "possible_passages = []\n",
    "for y, imp_moves_group in groupby(impossible_moves, key=lambda e: e[1][1]):\n",
    "    possible_xs = set(range(max_x+1)) - set([e[1][0] for e in imp_moves_group])\n",
    "    possible_passages.extend([(x, y) for x in possible_xs])\n",
    "    print(f\"Possible x passages for y={y}\", possible_xs)\n",
    "\n",
    "passage_pos, = possible_passages\n",
    "print(\"Only possible passage\", passage_pos)"
   ]
  },
  {
   "cell_type": "code",
   "execution_count": 8,
   "id": "c2b98bc1-bf33-47a5-b0b3-ccb65b983193",
   "metadata": {},
   "outputs": [
    {
     "name": "stdout",
     "output_type": "stream",
     "text": [
      "Target disk used 67\n",
      "Disks with tot size lower than target data []\n"
     ]
    }
   ],
   "source": [
    "# If freed, there is no disk that cannot contain target data\n",
    "target_used = target_data[1]\n",
    "print(\"Target disk used\", target_used)\n",
    "impossible_passages = [ts for ts in tot_sizes if ts[0] < target_used]\n",
    "print(\"Disks with tot size lower than target data\", impossible_passages)"
   ]
  },
  {
   "cell_type": "code",
   "execution_count": 9,
   "id": "4f1e3918-0d8f-4573-93eb-91f1c35ed06c",
   "metadata": {},
   "outputs": [
    {
     "name": "stdout",
     "output_type": "stream",
     "text": [
      "First passage dist 22\n"
     ]
    }
   ],
   "source": [
    "# \"Moving\" an empty space 1 pos away requires 1 step\n",
    "# Given the observations above, (19, 6) can be \"moved\" anywhere, and any space freed can contain target data\n",
    "# => all pos are equivalent except the barrier at y=3\n",
    "\n",
    "# First passage\n",
    "sx, sy = start_pos\n",
    "px, py = passage_pos\n",
    "first_passage_dist = abs(sx - px) + abs(sy - py)\n",
    "print(\"First passage dist\", first_passage_dist)"
   ]
  },
  {
   "cell_type": "code",
   "execution_count": 10,
   "id": "db2e1e01-888b-4423-907a-fff1f1e14d4a",
   "metadata": {},
   "outputs": [
    {
     "name": "stdout",
     "output_type": "stream",
     "text": [
      "Position target left (35, 0)\n",
      "Passage to left dist 38\n"
     ]
    }
   ],
   "source": [
    "# Move the empty space to the position left to the target\n",
    "tx, ty = target_pos\n",
    "target_left_pos = (tx-1, ty)\n",
    "tlx, tly = target_left_pos\n",
    "print(\"Position target left\", target_left_pos)\n",
    "passage_to_left_dist = abs(px - tlx) + abs(py - tly)\n",
    "print(\"Passage to left dist\", passage_to_left_dist)"
   ]
  },
  {
   "cell_type": "code",
   "execution_count": 11,
   "id": "28570c74-3082-4eac-9793-2321b350a9b6",
   "metadata": {},
   "outputs": [
    {
     "name": "stdout",
     "output_type": "stream",
     "text": [
      "Remaining dx 35\n",
      "Remaining dist 175\n"
     ]
    }
   ],
   "source": [
    "# Switch empty and target => add 1 dist\n",
    "switch_empty_target_dist = 1\n",
    "\n",
    "# Once the empty is on the right, each move to the left for the target requires 5 steps:\n",
    "# 4 for the empty to reach the position left of the target + 1 switch\n",
    "switch_target_empty_dist = 5\n",
    "\n",
    "remaining_dx = tlx\n",
    "remaining_dist = remaining_dx * switch_target_empty_dist\n",
    "print(\"Remaining dx\", remaining_dx)\n",
    "print(\"Remaining dist\", remaining_dist)"
   ]
  },
  {
   "cell_type": "code",
   "execution_count": 12,
   "id": "f3328d11-e79f-49aa-8aa1-2a1afb67db6f",
   "metadata": {},
   "outputs": [],
   "source": [
    "tot_dist = first_passage_dist + passage_to_left_dist + switch_empty_target_dist + remaining_dist"
   ]
  },
  {
   "cell_type": "code",
   "execution_count": 13,
   "id": "dafe3f55-92db-49f0-9477-b9fc08f26316",
   "metadata": {},
   "outputs": [
    {
     "name": "stdout",
     "output_type": "stream",
     "text": [
      "Part 2 solution: 236\n"
     ]
    }
   ],
   "source": [
    "print(f\"Part 2 solution: {tot_dist}\")"
   ]
  },
  {
   "cell_type": "code",
   "execution_count": null,
   "id": "96c12000-9568-4082-9cac-d37f55f21661",
   "metadata": {},
   "outputs": [],
   "source": []
  }
 ],
 "metadata": {
  "kernelspec": {
   "display_name": "Python 3 (ipykernel)",
   "language": "python",
   "name": "python3"
  },
  "language_info": {
   "codemirror_mode": {
    "name": "ipython",
    "version": 3
   },
   "file_extension": ".py",
   "mimetype": "text/x-python",
   "name": "python",
   "nbconvert_exporter": "python",
   "pygments_lexer": "ipython3",
   "version": "3.9.13"
  }
 },
 "nbformat": 4,
 "nbformat_minor": 5
}
